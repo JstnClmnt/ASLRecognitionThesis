{
 "cells": [
  {
   "cell_type": "code",
   "execution_count": 62,
   "metadata": {},
   "outputs": [
    {
     "ename": "TypeError",
     "evalue": "object of type 'numpy.int32' has no len()",
     "output_type": "error",
     "traceback": [
      "\u001b[1;31m---------------------------------------------------------------------------\u001b[0m",
      "\u001b[1;31mTypeError\u001b[0m                                 Traceback (most recent call last)",
      "\u001b[1;32m<ipython-input-62-85bb5e0b99ca>\u001b[0m in \u001b[0;36m<module>\u001b[1;34m\u001b[0m\n\u001b[0;32m     13\u001b[0m     \u001b[0mx_array\u001b[0m\u001b[1;33m=\u001b[0m\u001b[0mnp\u001b[0m\u001b[1;33m.\u001b[0m\u001b[0marray\u001b[0m\u001b[1;33m(\u001b[0m\u001b[0mX\u001b[0m\u001b[1;33m[\u001b[0m\u001b[0mx\u001b[0m\u001b[1;33m]\u001b[0m\u001b[1;33m)\u001b[0m\u001b[1;33m\u001b[0m\u001b[0m\n\u001b[0;32m     14\u001b[0m     \u001b[0my_array\u001b[0m\u001b[1;33m=\u001b[0m\u001b[0mnp\u001b[0m\u001b[1;33m.\u001b[0m\u001b[0marray\u001b[0m\u001b[1;33m(\u001b[0m\u001b[0mY\u001b[0m\u001b[1;33m[\u001b[0m\u001b[0mx\u001b[0m\u001b[1;33m]\u001b[0m\u001b[1;33m)\u001b[0m\u001b[1;33m\u001b[0m\u001b[0m\n\u001b[1;32m---> 15\u001b[1;33m     \u001b[0mprint\u001b[0m\u001b[1;33m(\u001b[0m\u001b[0mlen\u001b[0m\u001b[1;33m(\u001b[0m\u001b[0mx_array\u001b[0m\u001b[1;33m[\u001b[0m\u001b[1;36m0\u001b[0m\u001b[1;33m]\u001b[0m\u001b[1;33m)\u001b[0m\u001b[1;33m,\u001b[0m\u001b[0mlen\u001b[0m\u001b[1;33m(\u001b[0m\u001b[0my_array\u001b[0m\u001b[1;33m[\u001b[0m\u001b[1;36m0\u001b[0m\u001b[1;33m]\u001b[0m\u001b[1;33m)\u001b[0m\u001b[1;33m)\u001b[0m\u001b[1;33m\u001b[0m\u001b[0m\n\u001b[0m\u001b[0;32m     16\u001b[0m     \u001b[1;31m#print(y_array)\u001b[0m\u001b[1;33m\u001b[0m\u001b[1;33m\u001b[0m\u001b[0m\n\u001b[0;32m     17\u001b[0m     \u001b[0mdf2\u001b[0m\u001b[1;33m=\u001b[0m\u001b[0mpd\u001b[0m\u001b[1;33m.\u001b[0m\u001b[0mDataFrame\u001b[0m\u001b[1;33m(\u001b[0m\u001b[1;33m{\u001b[0m\u001b[1;34m\"1\"\u001b[0m\u001b[1;33m:\u001b[0m\u001b[1;33m[\u001b[0m\u001b[0mx_array\u001b[0m\u001b[1;33m]\u001b[0m\u001b[1;33m,\u001b[0m\u001b[1;34m\"2\"\u001b[0m\u001b[1;33m:\u001b[0m\u001b[1;33m[\u001b[0m\u001b[0my_array\u001b[0m\u001b[1;33m]\u001b[0m\u001b[1;33m}\u001b[0m\u001b[1;33m)\u001b[0m\u001b[1;33m\u001b[0m\u001b[0m\n",
      "\u001b[1;31mTypeError\u001b[0m: object of type 'numpy.int32' has no len()"
     ]
    }
   ],
   "source": [
    "import pandas as pd\n",
    "import numpy as np\n",
    "from hmmlearn import hmm\n",
    "from sklearn.decomposition import PCA as sklearnPCA\n",
    "from sklearn.discriminant_analysis import LinearDiscriminantAnalysis as LDA\n",
    "X = [[521, 106], [511, 288], [364, 296], [251, 490], [487, 346], [668, 288], [660, 510], [592, 390], [430, 597], [585, 601], [485, 84], [549, 82], [434, 113], [589, 111]]\n",
    "Y = np.random.rand(10,5,3)\n",
    "df=pd.DataFrame(columns=[\"1\",\"2\"])\n",
    "lengths=[]\n",
    "df2=0;\n",
    "for x in range(len(X)):\n",
    "    lengths.append(len(X[x]))\n",
    "    x_array=np.array(X[x])\n",
    "    y_array=np.array(Y[x])\n",
    "    print(len(x_array[0]),len(y_array[0]))\n",
    "    #print(y_array)\n",
    "    df2=pd.DataFrame({\"1\":[x_array],\"2\":[y_array]})\n",
    "    df=df.append(df2)\n",
    "df=df.reset_index()\n",
    "df.drop(0)\n",
    "df=df[[\"1\",\"2\"]]"
   ]
  },
  {
   "cell_type": "code",
   "execution_count": 83,
   "metadata": {},
   "outputs": [
    {
     "data": {
      "text/html": [
       "<div>\n",
       "<style scoped>\n",
       "    .dataframe tbody tr th:only-of-type {\n",
       "        vertical-align: middle;\n",
       "    }\n",
       "\n",
       "    .dataframe tbody tr th {\n",
       "        vertical-align: top;\n",
       "    }\n",
       "\n",
       "    .dataframe thead th {\n",
       "        text-align: right;\n",
       "    }\n",
       "</style>\n",
       "<table border=\"1\" class=\"dataframe\">\n",
       "  <thead>\n",
       "    <tr style=\"text-align: right;\">\n",
       "      <th></th>\n",
       "      <th>1</th>\n",
       "      <th>2</th>\n",
       "    </tr>\n",
       "  </thead>\n",
       "  <tbody>\n",
       "    <tr>\n",
       "      <th>0</th>\n",
       "      <td>[[0.5544449760383502, 0.9950332615516003, 0.95...</td>\n",
       "      <td>[[0.1940337445367849, 0.954918027666812, 0.840...</td>\n",
       "    </tr>\n",
       "    <tr>\n",
       "      <th>1</th>\n",
       "      <td>[[0.38654329729942893, 0.9121953803354649, 0.3...</td>\n",
       "      <td>[[0.4982963562210495, 0.6179852214044163, 0.83...</td>\n",
       "    </tr>\n",
       "    <tr>\n",
       "      <th>2</th>\n",
       "      <td>[[0.9673193441471521, 0.4205645006961024, 0.52...</td>\n",
       "      <td>[[0.9329394964576182, 0.7591573261974247, 0.64...</td>\n",
       "    </tr>\n",
       "    <tr>\n",
       "      <th>3</th>\n",
       "      <td>[[0.5047619254296307, 0.39889290601573835, 0.1...</td>\n",
       "      <td>[[0.16288743651832638, 0.2592521661407009, 0.7...</td>\n",
       "    </tr>\n",
       "    <tr>\n",
       "      <th>4</th>\n",
       "      <td>[[0.8538201568960905, 0.833694591097762, 0.629...</td>\n",
       "      <td>[[0.12274938699540194, 0.39778840870480814, 0....</td>\n",
       "    </tr>\n",
       "    <tr>\n",
       "      <th>5</th>\n",
       "      <td>[[0.9355580793264895, 0.09706616862789086, 0.3...</td>\n",
       "      <td>[[0.2764743317463523, 0.9206047897540336, 0.37...</td>\n",
       "    </tr>\n",
       "    <tr>\n",
       "      <th>6</th>\n",
       "      <td>[[0.3373704594518123, 0.3930643880530005, 0.74...</td>\n",
       "      <td>[[0.20586688796417985, 0.48098479825643803, 0....</td>\n",
       "    </tr>\n",
       "    <tr>\n",
       "      <th>7</th>\n",
       "      <td>[[0.9556264540568837, 0.01983755154117539, 0.3...</td>\n",
       "      <td>[[0.7446110175355481, 0.5186879952581093, 0.54...</td>\n",
       "    </tr>\n",
       "    <tr>\n",
       "      <th>8</th>\n",
       "      <td>[[0.40700813667431723, 0.3554373906733548, 0.3...</td>\n",
       "      <td>[[0.021790184760202447, 0.8382418517930155, 0....</td>\n",
       "    </tr>\n",
       "    <tr>\n",
       "      <th>9</th>\n",
       "      <td>[[0.11773862461314077, 0.26224326252091845, 0....</td>\n",
       "      <td>[[0.6502463383249812, 0.5397304200084903, 0.15...</td>\n",
       "    </tr>\n",
       "  </tbody>\n",
       "</table>\n",
       "</div>"
      ],
      "text/plain": [
       "                                                   1  \\\n",
       "0  [[0.5544449760383502, 0.9950332615516003, 0.95...   \n",
       "1  [[0.38654329729942893, 0.9121953803354649, 0.3...   \n",
       "2  [[0.9673193441471521, 0.4205645006961024, 0.52...   \n",
       "3  [[0.5047619254296307, 0.39889290601573835, 0.1...   \n",
       "4  [[0.8538201568960905, 0.833694591097762, 0.629...   \n",
       "5  [[0.9355580793264895, 0.09706616862789086, 0.3...   \n",
       "6  [[0.3373704594518123, 0.3930643880530005, 0.74...   \n",
       "7  [[0.9556264540568837, 0.01983755154117539, 0.3...   \n",
       "8  [[0.40700813667431723, 0.3554373906733548, 0.3...   \n",
       "9  [[0.11773862461314077, 0.26224326252091845, 0....   \n",
       "\n",
       "                                                   2  \n",
       "0  [[0.1940337445367849, 0.954918027666812, 0.840...  \n",
       "1  [[0.4982963562210495, 0.6179852214044163, 0.83...  \n",
       "2  [[0.9329394964576182, 0.7591573261974247, 0.64...  \n",
       "3  [[0.16288743651832638, 0.2592521661407009, 0.7...  \n",
       "4  [[0.12274938699540194, 0.39778840870480814, 0....  \n",
       "5  [[0.2764743317463523, 0.9206047897540336, 0.37...  \n",
       "6  [[0.20586688796417985, 0.48098479825643803, 0....  \n",
       "7  [[0.7446110175355481, 0.5186879952581093, 0.54...  \n",
       "8  [[0.021790184760202447, 0.8382418517930155, 0....  \n",
       "9  [[0.6502463383249812, 0.5397304200084903, 0.15...  "
      ]
     },
     "execution_count": 83,
     "metadata": {},
     "output_type": "execute_result"
    }
   ],
   "source": [
    "df"
   ]
  },
  {
   "cell_type": "code",
   "execution_count": 84,
   "metadata": {},
   "outputs": [
    {
     "ename": "ValueError",
     "evalue": "setting an array element with a sequence.",
     "output_type": "error",
     "traceback": [
      "\u001b[1;31m---------------------------------------------------------------------------\u001b[0m",
      "\u001b[1;31mValueError\u001b[0m                                Traceback (most recent call last)",
      "\u001b[1;32m<ipython-input-84-eb411913be02>\u001b[0m in \u001b[0;36m<module>\u001b[1;34m\u001b[0m\n\u001b[0;32m      1\u001b[0m \u001b[0mclf\u001b[0m \u001b[1;33m=\u001b[0m \u001b[0mhmm\u001b[0m\u001b[1;33m.\u001b[0m\u001b[0mGaussianHMM\u001b[0m\u001b[1;33m(\u001b[0m\u001b[0mn_components\u001b[0m\u001b[1;33m=\u001b[0m\u001b[1;36m3\u001b[0m\u001b[1;33m,\u001b[0m \u001b[0mn_iter\u001b[0m\u001b[1;33m=\u001b[0m\u001b[1;36m10\u001b[0m\u001b[1;33m)\u001b[0m\u001b[1;33m\u001b[0m\u001b[0m\n\u001b[1;32m----> 2\u001b[1;33m \u001b[0mclf\u001b[0m\u001b[1;33m.\u001b[0m\u001b[0mfit\u001b[0m\u001b[1;33m(\u001b[0m\u001b[0mdf\u001b[0m\u001b[1;33m)\u001b[0m\u001b[1;33m\u001b[0m\u001b[0m\n\u001b[0m",
      "\u001b[1;32m~\\AppData\\Roaming\\Python\\Python36\\site-packages\\hmmlearn\\base.py\u001b[0m in \u001b[0;36mfit\u001b[1;34m(self, X, lengths)\u001b[0m\n\u001b[0;32m    421\u001b[0m             \u001b[0mReturns\u001b[0m \u001b[0mself\u001b[0m\u001b[1;33m.\u001b[0m\u001b[1;33m\u001b[0m\u001b[0m\n\u001b[0;32m    422\u001b[0m         \"\"\"\n\u001b[1;32m--> 423\u001b[1;33m         \u001b[0mX\u001b[0m \u001b[1;33m=\u001b[0m \u001b[0mcheck_array\u001b[0m\u001b[1;33m(\u001b[0m\u001b[0mX\u001b[0m\u001b[1;33m)\u001b[0m\u001b[1;33m\u001b[0m\u001b[0m\n\u001b[0m\u001b[0;32m    424\u001b[0m         \u001b[0mself\u001b[0m\u001b[1;33m.\u001b[0m\u001b[0m_init\u001b[0m\u001b[1;33m(\u001b[0m\u001b[0mX\u001b[0m\u001b[1;33m,\u001b[0m \u001b[0mlengths\u001b[0m\u001b[1;33m=\u001b[0m\u001b[0mlengths\u001b[0m\u001b[1;33m)\u001b[0m\u001b[1;33m\u001b[0m\u001b[0m\n\u001b[0;32m    425\u001b[0m         \u001b[0mself\u001b[0m\u001b[1;33m.\u001b[0m\u001b[0m_check\u001b[0m\u001b[1;33m(\u001b[0m\u001b[1;33m)\u001b[0m\u001b[1;33m\u001b[0m\u001b[0m\n",
      "\u001b[1;32mC:\\Program Files\\Python36\\lib\\site-packages\\sklearn\\utils\\validation.py\u001b[0m in \u001b[0;36mcheck_array\u001b[1;34m(array, accept_sparse, accept_large_sparse, dtype, order, copy, force_all_finite, ensure_2d, allow_nd, ensure_min_samples, ensure_min_features, warn_on_dtype, estimator)\u001b[0m\n\u001b[0;32m    560\u001b[0m         \u001b[1;31m# make sure we actually converted to numeric:\u001b[0m\u001b[1;33m\u001b[0m\u001b[1;33m\u001b[0m\u001b[0m\n\u001b[0;32m    561\u001b[0m         \u001b[1;32mif\u001b[0m \u001b[0mdtype_numeric\u001b[0m \u001b[1;32mand\u001b[0m \u001b[0marray\u001b[0m\u001b[1;33m.\u001b[0m\u001b[0mdtype\u001b[0m\u001b[1;33m.\u001b[0m\u001b[0mkind\u001b[0m \u001b[1;33m==\u001b[0m \u001b[1;34m\"O\"\u001b[0m\u001b[1;33m:\u001b[0m\u001b[1;33m\u001b[0m\u001b[0m\n\u001b[1;32m--> 562\u001b[1;33m             \u001b[0marray\u001b[0m \u001b[1;33m=\u001b[0m \u001b[0marray\u001b[0m\u001b[1;33m.\u001b[0m\u001b[0mastype\u001b[0m\u001b[1;33m(\u001b[0m\u001b[0mnp\u001b[0m\u001b[1;33m.\u001b[0m\u001b[0mfloat64\u001b[0m\u001b[1;33m)\u001b[0m\u001b[1;33m\u001b[0m\u001b[0m\n\u001b[0m\u001b[0;32m    563\u001b[0m         \u001b[1;32mif\u001b[0m \u001b[1;32mnot\u001b[0m \u001b[0mallow_nd\u001b[0m \u001b[1;32mand\u001b[0m \u001b[0marray\u001b[0m\u001b[1;33m.\u001b[0m\u001b[0mndim\u001b[0m \u001b[1;33m>=\u001b[0m \u001b[1;36m3\u001b[0m\u001b[1;33m:\u001b[0m\u001b[1;33m\u001b[0m\u001b[0m\n\u001b[0;32m    564\u001b[0m             raise ValueError(\"Found array with dim %d. %s expected <= 2.\"\n",
      "\u001b[1;31mValueError\u001b[0m: setting an array element with a sequence."
     ]
    }
   ],
   "source": [
    "clf = hmm.GaussianHMM(n_components=3, n_iter=10)\n",
    "clf.fit(df)"
   ]
  },
  {
   "cell_type": "code",
   "execution_count": 59,
   "metadata": {},
   "outputs": [
    {
     "data": {
      "text/plain": [
       "0    [5, 6, 7, 8]\n",
       "Name: a, dtype: object"
      ]
     },
     "execution_count": 59,
     "metadata": {},
     "output_type": "execute_result"
    }
   ],
   "source": [
    "a = np.array([5, 6, 7, 8])\n",
    "df = pd.DataFrame({\"a\": [a]})\n",
    "df[\"a\"]"
   ]
  },
  {
   "cell_type": "code",
   "execution_count": 62,
   "metadata": {},
   "outputs": [
    {
     "data": {
      "text/plain": [
       "0      [1, on, on]\n",
       "1     [2, on, off]\n",
       "2     [3, off, on]\n",
       "3    [4, off, off]\n",
       "Name: new, dtype: object"
      ]
     },
     "execution_count": 62,
     "metadata": {},
     "output_type": "execute_result"
    }
   ],
   "source": [
    "df = pd.DataFrame({'id': [1, 2, 3, 4],\n",
    "                   'a': ['on', 'on', 'off', 'off'],\n",
    "                   'b': ['on', 'off', 'on', 'off']})\n",
    "\n",
    "df['new'] = df.apply(lambda r: tuple(r), axis=1).apply(np.array)\n",
    "df['new']"
   ]
  },
  {
   "cell_type": "code",
   "execution_count": 90,
   "metadata": {},
   "outputs": [
    {
     "data": {
      "text/plain": [
       "array([0.98113477])"
      ]
     },
     "execution_count": 90,
     "metadata": {},
     "output_type": "execute_result"
    }
   ],
   "source": [
    "X=[[156, 208], None, None, None, None, None, [308, 191], [300, 265], [293, 269], None, [284, 243], [272, 262], [268, 267], [260, 218], [259, 238], [251, 259], [245, 268], [250, 219], [243, 235], [236, 245], [227, 257]]\n",
    "for x in range(len(X)):\n",
    "    if(X[x]==None):\n",
    "        X[x]=[0,0]\n",
    "pca = sklearnPCA(n_components=1)\n",
    "X=pca.fit_transform(X)\n",
    "pca.explained_variance_ratio_"
   ]
  },
  {
   "cell_type": "code",
   "execution_count": 87,
   "metadata": {},
   "outputs": [
    {
     "data": {
      "text/plain": [
       "array([[-0.00451927],\n",
       "       [ 0.33979779],\n",
       "       [ 0.33979779],\n",
       "       [ 0.33979779],\n",
       "       [ 0.33979779],\n",
       "       [ 0.33979779],\n",
       "       [-0.13885822],\n",
       "       [-0.19873047],\n",
       "       [-0.19548972],\n",
       "       [ 0.33979779],\n",
       "       [-0.16280543],\n",
       "       [-0.16836911],\n",
       "       [-0.16900274],\n",
       "       [-0.1162435 ],\n",
       "       [-0.13357134],\n",
       "       [-0.14491132],\n",
       "       [-0.14723531],\n",
       "       [-0.10729697],\n",
       "       [-0.11504466],\n",
       "       [-0.11729813],\n",
       "       [-0.11941056]])"
      ]
     },
     "execution_count": 87,
     "metadata": {},
     "output_type": "execute_result"
    }
   ],
   "source": [
    "from sklearn.decomposition import FastICA \n",
    "ICA = FastICA(n_components=1, random_state=12)\n",
    "ICA.fit_transform(X)"
   ]
  },
  {
   "cell_type": "code",
   "execution_count": 61,
   "metadata": {},
   "outputs": [
    {
     "data": {
      "text/plain": [
       "[array([521.2375 , 106.99375]), None, array([511.175  , 288.68125])]"
      ]
     },
     "execution_count": 61,
     "metadata": {},
     "output_type": "execute_result"
    }
   ],
   "source": [
    "x =[[521.2375000000001, 106.99374999999999, 2.0],None,[511.17500000000007, 288.68125, 2.0]]\n",
    "for X in range(len(x)):\n",
    "    if(x[X]!=None):\n",
    "        x[X]=np.delete(x[X],2)\n",
    "x"
   ]
  },
  {
   "cell_type": "code",
   "execution_count": 49,
   "metadata": {},
   "outputs": [
    {
     "data": {
      "text/plain": [
       "array([list([15, 180, 0.277296]), list([33, 178, 0.43666023]),\n",
       "       list([65, 172, 0.542019]), list([99, 169, 0.5927187]),\n",
       "       list([131, 161, 0.614999]), list([75, 123, 0.50154346]),\n",
       "       list([122, 130, 0.22791657]), nan, nan,\n",
       "       list([90, 109, 0.46258584]), list([153, 129, 0.19478612]), nan,\n",
       "       nan, list([106, 106, 0.30412775]), list([152, 130, 0.17550756]),\n",
       "       nan, nan, list([113, 109, 0.3127688]), list([144, 130, 0.2859986]),\n",
       "       list([140, 138, 0.12361237]), nan], dtype=object)"
      ]
     },
     "execution_count": 49,
     "metadata": {},
     "output_type": "execute_result"
    }
   ],
   "source": [
    "x"
   ]
  },
  {
   "cell_type": "code",
   "execution_count": null,
   "metadata": {},
   "outputs": [],
   "source": []
  }
 ],
 "metadata": {
  "kernelspec": {
   "display_name": "Python 3",
   "language": "python",
   "name": "python3"
  },
  "language_info": {
   "codemirror_mode": {
    "name": "ipython",
    "version": 3
   },
   "file_extension": ".py",
   "mimetype": "text/x-python",
   "name": "python",
   "nbconvert_exporter": "python",
   "pygments_lexer": "ipython3",
   "version": "3.6.2"
  }
 },
 "nbformat": 4,
 "nbformat_minor": 2
}
